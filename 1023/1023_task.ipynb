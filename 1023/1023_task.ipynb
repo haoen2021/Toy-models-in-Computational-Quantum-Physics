{
 "cells": [
  {
   "cell_type": "code",
   "execution_count": 2,
   "id": "0781a86f",
   "metadata": {},
   "outputs": [],
   "source": [
    "import numpy as np\n",
    "from tqdm import tqdm"
   ]
  },
  {
   "cell_type": "code",
   "execution_count": 3,
   "id": "b8e7c79a",
   "metadata": {},
   "outputs": [],
   "source": [
    "#define Pauli-Z, Pauli-X and identity matrices\n",
    "pZ = np.array([[1,0],[0,-1]])\n",
    "pX = np.array([[0,1],[1,0]])\n",
    "eye = np.array([[1,0],[0,1]])\n",
    "\n",
    "#define intereaction lists\n",
    "Hlist = [(0,3),(3,6),(1,4),(4,7),(2,5),(5,8)]\n",
    "Vlist = [(0,1,2),(1,2,0),(2,0,1),(3,4,5),(4,5,3),(5,3,4),(6,7,8),(7,8,6),(8,6,7)]\n",
    "J = 1.0\n",
    "g = 1.7\n",
    "h = 0.7"
   ]
  },
  {
   "cell_type": "code",
   "execution_count": 4,
   "id": "40707cb2",
   "metadata": {},
   "outputs": [],
   "source": [
    "#read nth bit\n",
    "def ReadBit(i,n):\n",
    "    return (i&(1<<n))>>n\n",
    "\n",
    "#define many_body_operator\n",
    "def many_body_operator(idx, oprts, size = 9):\n",
    "    \"Tensor product of `orts` acting on indexes `idx`. Fills rest with Id.\"\n",
    "    matrices = [eye if k not in idx else oprts[idx.index(k)] for k in range(size)]\n",
    "    prod = matrices[0]\n",
    "    for k in range(1, size):\n",
    "        prod = np.kron(prod, matrices[k]) \n",
    "    return prod\n",
    "\n",
    "#define contraction of physical index of MPOs, we only need to calculate M0, M1 and M2, \n",
    "#(M0 = M3 = M6, M1 = M4 = M7, M2 = M5 = M8 due to translational invariance)\n",
    "def PhysContractM0(lbit,rbit):\n",
    "    i = eye[lbit,rbit]\n",
    "    z = pZ[lbit,rbit]\n",
    "    x = pX[lbit,rbit]\n",
    "    M0 = np.array([[i,z,0,0,x,0,-h*x],\n",
    "                    [0,0,i,0,0,0,0],\n",
    "                    [0,0,0,i,0,0,0],\n",
    "                    [0,0,0,0,0,0,-J*z],\n",
    "                    [0,0,0,0,0,0,0],\n",
    "                    [0,0,0,0,0,0,0],\n",
    "                    [0,0,0,0,0,0,i]])\n",
    "    return M0+0j\n",
    "\n",
    "def PhysContractM1(lbit,rbit):\n",
    "    i = eye[lbit,rbit]\n",
    "    z = pZ[lbit,rbit]\n",
    "    x = pX[lbit,rbit]\n",
    "    M1 = np.array([[i,z,0,0,0,0,-h*x],\n",
    "                    [0,0,i,0,z,x,0],\n",
    "                    [0,0,0,i,0,0,0],\n",
    "                    [0,0,0,0,0,0,-J*z],\n",
    "                    [0,0,0,0,0,z,0],\n",
    "                    [0,0,0,0,0,0,0],\n",
    "                    [0,0,0,0,0,0,i]])\n",
    "    return M1+0j\n",
    "\n",
    "def PhysContractM2(lbit,rbit):\n",
    "    i = eye[lbit,rbit]\n",
    "    z = pZ[lbit,rbit]\n",
    "    x = pX[lbit,rbit]\n",
    "    M2 = np.array([[i,z,0,0,0,0,-h*x],\n",
    "                    [0,0,i,0,0,0,0],\n",
    "                    [0,0,0,i,0,0,0],\n",
    "                    [0,0,0,0,0,0,-J*z],\n",
    "                    [0,0,0,0,0,0,-g*x],\n",
    "                    [0,0,0,0,0,0,-g*z],\n",
    "                    [0,0,0,0,0,0,i]])\n",
    "    return M2+0j"
   ]
  },
  {
   "cell_type": "code",
   "execution_count": 5,
   "id": "a93917b7",
   "metadata": {},
   "outputs": [
    {
     "name": "stderr",
     "output_type": "stream",
     "text": [
      "100%|████████████████████████████████████████████████████████████████████████████████| 512/512 [01:45<00:00,  4.83it/s]\n"
     ]
    },
    {
     "name": "stdout",
     "output_type": "stream",
     "text": [
      "The Lowest 20 Eigenvalues:[-16.98738797 -16.33765141 -14.20762975 -13.75785526 -13.51871353\n",
      " -13.51871353 -12.92917989 -12.47041377 -12.47041377 -12.35546297\n",
      " -12.35546297 -12.24793588 -11.50149999 -11.50149999 -11.22721333\n",
      " -11.22721333 -11.047253   -11.047253   -10.86124774 -10.55957422]\n"
     ]
    }
   ],
   "source": [
    "Hamil_contractmpo = np.zeros([2**9,2**9])+0j\n",
    "Lvec = np.array([1,0,0,0,0,0,0])+0j\n",
    "Rvec = np.transpose(np.array([0,0,0,0,0,0,1]))+0j\n",
    "\n",
    "#Contract mpo to get the matrix elements of Hamiltonian\n",
    "for i in tqdm(range(2**9)):\n",
    "    for j in range(2**9):\n",
    "        mel = Lvec @ PhysContractM0(ReadBit(i,0),ReadBit(j,0)) @ PhysContractM1(ReadBit(i,1),ReadBit(j,1)) @ \\\n",
    "        PhysContractM2(ReadBit(i,2),ReadBit(j,2)) @ PhysContractM0(ReadBit(i,3),ReadBit(j,3)) @ PhysContractM1(ReadBit(i,4),ReadBit(j,4))\\\n",
    "        @ PhysContractM2(ReadBit(i,5),ReadBit(j,5)) @ PhysContractM0(ReadBit(i,6),ReadBit(j,6)) @\\\n",
    "        PhysContractM1(ReadBit(i,7),ReadBit(j,7)) @ PhysContractM2(ReadBit(i,8),ReadBit(j,8)) @ Rvec\n",
    "        Hamil_contractmpo[i,j] = mel\n",
    "\n",
    "# Diagonalize the Hamiltonian\n",
    "evalsmpo, evecsmpo = np.linalg.eigh(Hamil_contractmpo)\n",
    "\n",
    "# Find the 20 lowest eigenvalues\n",
    "lowest_evals = np.sort(evalsmpo)[:20]\n",
    "\n",
    "print(\"The Lowest 20 Eigenvalues:{}\".format(lowest_evals))"
   ]
  },
  {
   "cell_type": "code",
   "execution_count": 6,
   "id": "5a882d49",
   "metadata": {},
   "outputs": [],
   "source": [
    "Hamil = np.zeros([2**9,2**9])+0j\n",
    "for hh in Hlist:\n",
    "    Hamil += -J*many_body_operator(hh, [pZ,pZ])\n",
    "for v in Vlist:\n",
    "    Hamil += -g*many_body_operator(v, [pZ,pX,pZ])\n",
    "for i in range(9):\n",
    "    Hamil += -h*many_body_operator([i], [pX])"
   ]
  },
  {
   "cell_type": "code",
   "execution_count": 7,
   "id": "0b58af5f",
   "metadata": {},
   "outputs": [
    {
     "name": "stdout",
     "output_type": "stream",
     "text": [
      "The Lowest 20 Eigenvalues:[-16.98738797 -16.33765141 -14.20762975 -13.75785526 -13.51871353\n",
      " -13.51871353 -12.92917989 -12.47041377 -12.47041377 -12.35546297\n",
      " -12.35546297 -12.24793588 -11.50149999 -11.50149999 -11.22721333\n",
      " -11.22721333 -11.047253   -11.047253   -10.86124774 -10.55957422]\n"
     ]
    }
   ],
   "source": [
    "# Diagonalize the Hamiltonian\n",
    "evals, evecs = np.linalg.eigh(Hamil)\n",
    "\n",
    "# Find the 20 lowest eigenvalues\n",
    "lowest_evals = np.sort(evals)[:20]\n",
    "\n",
    "print(\"The Lowest 20 Eigenvalues:{}\".format(lowest_evals))"
   ]
  },
  {
   "cell_type": "code",
   "execution_count": 8,
   "id": "2e46025a",
   "metadata": {},
   "outputs": [
    {
     "name": "stdout",
     "output_type": "stream",
     "text": [
      "True\n"
     ]
    }
   ],
   "source": [
    "#determine whether the contraction of mpos equals to the true Hamiltonian\n",
    "print(np.array_equal(Hamil_contractmpo, Hamil))"
   ]
  }
 ],
 "metadata": {
  "kernelspec": {
   "display_name": "Python 3 (ipykernel)",
   "language": "python",
   "name": "python3"
  },
  "language_info": {
   "codemirror_mode": {
    "name": "ipython",
    "version": 3
   },
   "file_extension": ".py",
   "mimetype": "text/x-python",
   "name": "python",
   "nbconvert_exporter": "python",
   "pygments_lexer": "ipython3",
   "version": "3.9.13"
  }
 },
 "nbformat": 4,
 "nbformat_minor": 5
}
